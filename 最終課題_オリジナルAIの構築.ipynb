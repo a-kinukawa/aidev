{
 "cells": [
  {
   "cell_type": "markdown",
   "id": "ccad2d9b",
   "metadata": {},
   "source": [
    "## 最終課題_オリジナルAIの構築\n",
    "\n",
    "ディープラーニングの手法（教師あり学習の二値分類モデル）およびTensorflow・Kerasを用いて、問題を解決するAIを構築する。"
   ]
  },
  {
   "cell_type": "markdown",
   "id": "0727bd65",
   "metadata": {},
   "source": [
    "> データ元 : 日本声優統計学会 https://voice-statistics.github.io/"
   ]
  },
  {
   "cell_type": "code",
   "execution_count": 3,
   "id": "faffa98e",
   "metadata": {},
   "outputs": [
    {
     "name": "stdout",
     "output_type": "stream",
     "text": [
      "['C:\\\\dev\\\\python312.zip', 'C:\\\\dev\\\\DLLs', 'C:\\\\dev\\\\Lib', 'C:\\\\dev', 'c:\\\\dev\\\\aidev\\\\.venv', '', 'c:\\\\dev\\\\aidev\\\\.venv\\\\Lib\\\\site-packages', 'c:\\\\dev\\\\aidev\\\\.venv\\\\Lib\\\\site-packages\\\\win32', 'c:\\\\dev\\\\aidev\\\\.venv\\\\Lib\\\\site-packages\\\\win32\\\\lib', 'c:\\\\dev\\\\aidev\\\\.venv\\\\Lib\\\\site-packages\\\\Pythonwin']\n",
      "c:\\dev\\aidev\\.venv\\Scripts\\python.exe\n",
      "Python executable: c:\\dev\\aidev\\.venv\\Scripts\\python.exe\n",
      "Python path: C:\\dev\\python312.zip\n",
      "✗ librosa import error: No module named 'librosa'\n",
      "✓ tensorflow version: 2.19.0\n"
     ]
    }
   ],
   "source": [
    "import sys\n",
    "print(sys.path)\n",
    "print(sys.executable)\n",
    "print(\"Python executable:\", sys.executable)\n",
    "print(\"Python path:\", sys.path[0])\n",
    "\n",
    "# ライブラリの確認\n",
    "try:\n",
    "    import librosa\n",
    "    print(f\"✓ librosa version: {librosa.__version__}\")\n",
    "except ImportError as e:\n",
    "    print(f\"✗ librosa import error: {e}\")\n",
    "\n",
    "try:\n",
    "    import tensorflow as tf\n",
    "    print(f\"✓ tensorflow version: {tf.__version__}\")\n",
    "except ImportError as e:\n",
    "    print(f\"✗ tensorflow import error: {e}\")\n"
   ]
  },
  {
   "cell_type": "code",
   "execution_count": 2,
   "id": "ba6f38eb",
   "metadata": {},
   "outputs": [
    {
     "ename": "ModuleNotFoundError",
     "evalue": "No module named 'librosa'",
     "output_type": "error",
     "traceback": [
      "\u001b[31m---------------------------------------------------------------------------\u001b[39m",
      "\u001b[31mModuleNotFoundError\u001b[39m                       Traceback (most recent call last)",
      "\u001b[36mCell\u001b[39m\u001b[36m \u001b[39m\u001b[32mIn[2]\u001b[39m\u001b[32m, line 3\u001b[39m\n\u001b[32m      1\u001b[39m \u001b[38;5;28;01mimport\u001b[39;00m\u001b[38;5;250m \u001b[39m\u001b[34;01mnumpy\u001b[39;00m\u001b[38;5;250m \u001b[39m\u001b[38;5;28;01mas\u001b[39;00m\u001b[38;5;250m \u001b[39m\u001b[34;01mnp\u001b[39;00m\n\u001b[32m      2\u001b[39m \u001b[38;5;28;01mimport\u001b[39;00m\u001b[38;5;250m \u001b[39m\u001b[34;01mtensorflow\u001b[39;00m\u001b[38;5;250m \u001b[39m\u001b[38;5;28;01mas\u001b[39;00m\u001b[38;5;250m \u001b[39m\u001b[34;01mtf\u001b[39;00m\n\u001b[32m----> \u001b[39m\u001b[32m3\u001b[39m \u001b[38;5;28;01mimport\u001b[39;00m\u001b[38;5;250m \u001b[39m\u001b[34;01mlibrosa\u001b[39;00m\n\u001b[32m      4\u001b[39m \u001b[38;5;28;01mimport\u001b[39;00m\u001b[38;5;250m \u001b[39m\u001b[34;01msklearn\u001b[39;00m\n\u001b[32m      5\u001b[39m \u001b[38;5;28;01mimport\u001b[39;00m\u001b[38;5;250m \u001b[39m\u001b[34;01mmatplotlib\u001b[39;00m\n",
      "\u001b[31mModuleNotFoundError\u001b[39m: No module named 'librosa'"
     ]
    }
   ],
   "source": [
    "import numpy as np\n",
    "import tensorflow as tf\n",
    "import librosa\n",
    "import sklearn\n",
    "import matplotlib\n",
    "\n",
    "print(f\"numpy version: {np.__version__}\")\n",
    "print(f\"tensorflow version: {tf.__version__}\")\n",
    "print(f\"librosa version: {librosa.__version__}\")\n",
    "print(f\"scikit-learn version: {sklearn.__version__}\")\n",
    "print(f\"matplotlib version: {matplotlib.__version__}\")\n",
    "\n"
   ]
  },
  {
   "cell_type": "code",
   "execution_count": 2,
   "id": "3ed9fc9a",
   "metadata": {},
   "outputs": [
    {
     "name": "stdout",
     "output_type": "stream",
     "text": [
      "Python path: c:\\dev\\aidev\\.venv\\Scripts\\python.exe\n",
      "Python version: 3.12.10 (tags/v3.12.10:0cc8128, Apr  8 2025, 12:21:36) [MSC v.1943 64 bit (AMD64)]\n",
      "librosa がインストールされていません\n"
     ]
    }
   ],
   "source": [
    "import sys\n",
    "print(\"Python path:\", sys.executable)\n",
    "print(\"Python version:\", sys.version)\n",
    "\n",
    "try:\n",
    "    import librosa\n",
    "    print(f\"librosa version: {librosa.__version__}\")\n",
    "    print(\"librosa インストール成功\")\n",
    "except ImportError:\n",
    "    print(\"librosa がインストールされていません\")"
   ]
  },
  {
   "cell_type": "code",
   "execution_count": 3,
   "id": "d80c512a",
   "metadata": {},
   "outputs": [
    {
     "ename": "ModuleNotFoundError",
     "evalue": "No module named 'librosa'",
     "output_type": "error",
     "traceback": [
      "\u001b[31m---------------------------------------------------------------------------\u001b[39m",
      "\u001b[31mModuleNotFoundError\u001b[39m                       Traceback (most recent call last)",
      "\u001b[36mCell\u001b[39m\u001b[36m \u001b[39m\u001b[32mIn[3]\u001b[39m\u001b[32m, line 5\u001b[39m\n\u001b[32m      3\u001b[39m \u001b[38;5;28;01mimport\u001b[39;00m\u001b[38;5;250m \u001b[39m\u001b[34;01mos\u001b[39;00m\n\u001b[32m      4\u001b[39m \u001b[38;5;28;01mimport\u001b[39;00m\u001b[38;5;250m \u001b[39m\u001b[34;01mnumpy\u001b[39;00m\u001b[38;5;250m \u001b[39m\u001b[38;5;28;01mas\u001b[39;00m\u001b[38;5;250m \u001b[39m\u001b[34;01mnp\u001b[39;00m\n\u001b[32m----> \u001b[39m\u001b[32m5\u001b[39m \u001b[38;5;28;01mimport\u001b[39;00m\u001b[38;5;250m \u001b[39m\u001b[34;01mlibrosa\u001b[39;00m\n\u001b[32m      6\u001b[39m \u001b[38;5;28;01mimport\u001b[39;00m\u001b[38;5;250m \u001b[39m\u001b[34;01mtensorflow\u001b[39;00m\u001b[38;5;250m \u001b[39m\u001b[38;5;28;01mas\u001b[39;00m\u001b[38;5;250m \u001b[39m\u001b[34;01mtf\u001b[39;00m\n\u001b[32m      7\u001b[39m \u001b[38;5;28;01mfrom\u001b[39;00m\u001b[38;5;250m \u001b[39m\u001b[34;01mtensorflow\u001b[39;00m\u001b[38;5;250m \u001b[39m\u001b[38;5;28;01mimport\u001b[39;00m keras\n",
      "\u001b[31mModuleNotFoundError\u001b[39m: No module named 'librosa'"
     ]
    }
   ],
   "source": [
    "# 事前準備_インポート\n",
    "\n",
    "import os\n",
    "import numpy as np\n",
    "import librosa\n",
    "import tensorflow as tf\n",
    "from tensorflow import keras\n",
    "from sklearn.model_selection import train_test_split\n",
    "from sklearn.preprocessing import StandardScaler\n",
    "import matplotlib.pyplot as plt"
   ]
  },
  {
   "cell_type": "code",
   "execution_count": null,
   "id": "8c355e13",
   "metadata": {},
   "outputs": [],
   "source": [
    "# フォルダ内のデータは手動で train:test=7:3 に分けてある。\n",
    "\n",
    "# trainフォルダのファイル一覧を取得\n",
    "train_normal_files = glob.glob(\"./dataset_sample/train/normal/*\")\n",
    "train_happy_files = glob.glob(\"./dataset_sample/train/happy/*\")\n",
    "\n",
    "# testフォルダのファイル一覧を取得\n",
    "test_normal_files = glob.glob(\"./dataset_sample/test/normal/*\")\n",
    "test_happy_files = glob.glob(\"./dataset_sample/test/happy/*\")"
   ]
  },
  {
   "cell_type": "code",
   "execution_count": null,
   "id": "1d606a6e",
   "metadata": {},
   "outputs": [],
   "source": [
    "# それぞれのファイル数を確認\n",
    "print(f'train_normal_files:', len(train_normal_files))\n",
    "print(f'train_happy_files:', len(train_happy_files))\n",
    "print(f'test_normal_files:', len(test_normal_files))\n",
    "print(f'test_happy_files:', len(test_happy_files))"
   ]
  },
  {
   "cell_type": "markdown",
   "id": "ee99984d",
   "metadata": {},
   "source": [
    "**※以下、生成分**"
   ]
  },
  {
   "cell_type": "code",
   "execution_count": null,
   "id": "b16ebed4",
   "metadata": {},
   "outputs": [],
   "source": [
    "# 音声特徴量抽出関数\n",
    "def extract_features(file_path, max_length=100):\n",
    "    \"\"\"\n",
    "    音声ファイルから特徴量を抽出\n",
    "    \"\"\"\n",
    "    try:\n",
    "        # 音声ファイル読み込み\n",
    "        audio, sample_rate = librosa.load(file_path, sr=22050)\n",
    "        \n",
    "        # MFCC特徴量抽出\n",
    "        mfccs = librosa.feature.mfcc(y=audio, sr=sample_rate, n_mfcc=13)\n",
    "        \n",
    "        # 固定長に調整\n",
    "        if mfccs.shape[1] > max_length:\n",
    "            mfccs = mfccs[:, :max_length]\n",
    "        else:\n",
    "            mfccs = np.pad(mfccs, ((0, 0), (0, max_length - mfccs.shape[1])), mode='constant')\n",
    "        \n",
    "        return mfccs.flatten()\n",
    "    \n",
    "    except Exception as e:\n",
    "        print(f\"Error processing {file_path}: {e}\")\n",
    "        return None"
   ]
  },
  {
   "cell_type": "code",
   "execution_count": null,
   "id": "ee5cc282",
   "metadata": {},
   "outputs": [],
   "source": [
    "# データセット準備\n",
    "def prepare_dataset(data_dir):\n",
    "    \"\"\"\n",
    "    データセットを準備\n",
    "    data_dir/\n",
    "    ├── normal/     # 普通の音声ファイル\n",
    "    └── joy/        # 喜びの音声ファイル\n",
    "    \"\"\"\n",
    "    features = []\n",
    "    labels = []\n",
    "    \n",
    "    # 普通の音声データ（ラベル: 0）\n",
    "    normal_dir = os.path.join(data_dir, 'normal')\n",
    "    if os.path.exists(normal_dir):\n",
    "        for file_name in os.listdir(normal_dir):\n",
    "            if file_name.endswith(('.wav', '.mp3', '.flac')):\n",
    "                file_path = os.path.join(normal_dir, file_name)\n",
    "                feature = extract_features(file_path)\n",
    "                if feature is not None:\n",
    "                    features.append(feature)\n",
    "                    labels.append(0)  # 普通\n",
    "    \n",
    "    # 喜びの音声データ（ラベル: 1）\n",
    "    joy_dir = os.path.join(data_dir, 'joy')\n",
    "    if os.path.exists(joy_dir):\n",
    "        for file_name in os.listdir(joy_dir):\n",
    "            if file_name.endswith(('.wav', '.mp3', '.flac')):\n",
    "                file_path = os.path.join(joy_dir, file_name)\n",
    "                feature = extract_features(file_path)\n",
    "                if feature is not None:\n",
    "                    features.append(feature)\n",
    "                    labels.append(1)  # 喜び\n",
    "    \n",
    "    return np.array(features), np.array(labels)"
   ]
  },
  {
   "cell_type": "code",
   "execution_count": null,
   "id": "bdca720e",
   "metadata": {},
   "outputs": [],
   "source": [
    "# モデル構築\n",
    "def create_model(input_shape):\n",
    "    \"\"\"\n",
    "    二値分類用のニューラルネットワークモデル\n",
    "    \"\"\"\n",
    "    model = keras.Sequential([\n",
    "        keras.layers.Dense(256, activation='relu', input_shape=(input_shape,)),\n",
    "        keras.layers.Dropout(0.3),\n",
    "        keras.layers.Dense(128, activation='relu'),\n",
    "        keras.layers.Dropout(0.3),\n",
    "        keras.layers.Dense(64, activation='relu'),\n",
    "        keras.layers.Dropout(0.2),\n",
    "        keras.layers.Dense(1, activation='sigmoid')  # 二値分類用\n",
    "    ])\n",
    "    \n",
    "    model.compile(\n",
    "        optimizer='adam',\n",
    "        loss='binary_crossentropy',\n",
    "        metrics=['accuracy']\n",
    "    )\n",
    "    \n",
    "    return model"
   ]
  },
  {
   "cell_type": "code",
   "execution_count": null,
   "id": "22adbcb8",
   "metadata": {},
   "outputs": [],
   "source": [
    "# メイン処理\n",
    "def main():\n",
    "    # データディレクトリのパス（適宜変更してください）\n",
    "    data_directory = \"audio_data\"\n",
    "    \n",
    "    print(\"データセットを準備中...\")\n",
    "    X, y = prepare_dataset(data_directory)\n",
    "    \n",
    "    if len(X) == 0:\n",
    "        print(\"音声データが見つかりません。データディレクトリを確認してください。\")\n",
    "        return\n",
    "    \n",
    "    print(f\"データ数: {len(X)}\")\n",
    "    print(f\"普通: {np.sum(y == 0)}件, 喜び: {np.sum(y == 1)}件\")\n",
    "    \n",
    "    # データの正規化\n",
    "    scaler = StandardScaler()\n",
    "    X_scaled = scaler.fit_transform(X)\n",
    "    \n",
    "    # 訓練・テストデータ分割\n",
    "    X_train, X_test, y_train, y_test = train_test_split(\n",
    "        X_scaled, y, test_size=0.2, random_state=42, stratify=y\n",
    "    )\n",
    "    \n",
    "    print(f\"訓練データ: {len(X_train)}, テストデータ: {len(X_test)}\")\n",
    "    \n",
    "    # モデル作成\n",
    "    model = create_model(X_train.shape[1])\n",
    "    print(model.summary())\n",
    "    \n",
    "    # コールバック設定\n",
    "    early_stopping = keras.callbacks.EarlyStopping(\n",
    "        monitor='val_loss', patience=10, restore_best_weights=True\n",
    "    )\n",
    "    \n",
    "    # モデル訓練\n",
    "    print(\"モデルを訓練中...\")\n",
    "    history = model.fit(\n",
    "        X_train, y_train,\n",
    "        epochs=100,\n",
    "        batch_size=32,\n",
    "        validation_split=0.2,\n",
    "        callbacks=[early_stopping],\n",
    "        verbose=1\n",
    "    )\n",
    "    \n",
    "    # モデル評価\n",
    "    test_loss, test_accuracy = model.evaluate(X_test, y_test, verbose=0)\n",
    "    print(f\"テスト精度: {test_accuracy:.4f}\")\n",
    "    \n",
    "    # 予測例\n",
    "    predictions = model.predict(X_test)\n",
    "    predicted_classes = (predictions > 0.5).astype(int)\n",
    "    \n",
    "    print(\"\\n予測結果の例:\")\n",
    "    for i in range(min(5, len(X_test))):\n",
    "        actual = \"喜び\" if y_test[i] == 1 else \"普通\"\n",
    "        predicted = \"喜び\" if predicted_classes[i] == 1 else \"普通\"\n",
    "        confidence = predictions[i][0]\n",
    "        print(f\"実際: {actual}, 予測: {predicted}, 信頼度: {confidence:.4f}\")\n",
    "    \n",
    "    # 学習履歴の可視化\n",
    "    plt.figure(figsize=(12, 4))\n",
    "    \n",
    "    plt.subplot(1, 2, 1)\n",
    "    plt.plot(history.history['loss'], label='Training Loss')\n",
    "    plt.plot(history.history['val_loss'], label='Validation Loss')\n",
    "    plt.title('Model Loss')\n",
    "    plt.xlabel('Epoch')\n",
    "    plt.ylabel('Loss')\n",
    "    plt.legend()\n",
    "    \n",
    "    plt.subplot(1, 2, 2)\n",
    "    plt.plot(history.history['accuracy'], label='Training Accuracy')\n",
    "    plt.plot(history.history['val_accuracy'], label='Validation Accuracy')\n",
    "    plt.title('Model Accuracy')\n",
    "    plt.xlabel('Epoch')\n",
    "    plt.ylabel('Accuracy')\n",
    "    plt.legend()\n",
    "    \n",
    "    plt.tight_layout()\n",
    "    plt.show()\n",
    "    \n",
    "    # モデル保存\n",
    "    model.save('emotion_classifier.h5')\n",
    "    print(\"モデルを 'emotion_classifier.h5' として保存しました\")"
   ]
  }
 ],
 "metadata": {
  "kernelspec": {
   "display_name": ".venv",
   "language": "python",
   "name": "python3"
  },
  "language_info": {
   "codemirror_mode": {
    "name": "ipython",
    "version": 3
   },
   "file_extension": ".py",
   "mimetype": "text/x-python",
   "name": "python",
   "nbconvert_exporter": "python",
   "pygments_lexer": "ipython3",
   "version": "3.12.10"
  }
 },
 "nbformat": 4,
 "nbformat_minor": 5
}
